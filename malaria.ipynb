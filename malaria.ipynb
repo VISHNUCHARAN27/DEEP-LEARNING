{
  "nbformat": 4,
  "nbformat_minor": 0,
  "metadata": {
    "colab": {
      "name": "malaria.ipynb",
      "version": "0.3.2",
      "provenance": [],
      "collapsed_sections": [],
      "toc_visible": true,
      "include_colab_link": true
    },
    "kernelspec": {
      "name": "python3",
      "display_name": "Python 3"
    }
  },
  "cells": [
    {
      "cell_type": "markdown",
      "metadata": {
        "id": "view-in-github",
        "colab_type": "text"
      },
      "source": [
        "<a href=\"https://colab.research.google.com/github/VISHNUCHARAN27/DEEP-LEARNING/blob/master/malaria.ipynb\" target=\"_parent\"><img src=\"https://colab.research.google.com/assets/colab-badge.svg\" alt=\"Open In Colab\"/></a>"
      ]
    },
    {
      "cell_type": "code",
      "metadata": {
        "id": "D2x6Yjzy4thW",
        "colab_type": "code",
        "outputId": "a037f3e3-c16e-4560-92f5-af539efe01c3",
        "colab": {
          "resources": {
            "http://localhost:8080/nbextensions/google.colab/files.js": {
              "data": "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",
              "ok": true,
              "headers": [
                [
                  "content-type",
                  "application/javascript"
                ]
              ],
              "status": 200,
              "status_text": ""
            }
          },
          "base_uri": "https://localhost:8080/",
          "height": 91
        }
      },
      "source": [
        "from google.colab import files\n",
        "files.upload()"
      ],
      "execution_count": 0,
      "outputs": [
        {
          "output_type": "display_data",
          "data": {
            "text/html": [
              "\n",
              "     <input type=\"file\" id=\"files-e9072078-9917-42a8-ae64-714462a20bfb\" name=\"files[]\" multiple disabled />\n",
              "     <output id=\"result-e9072078-9917-42a8-ae64-714462a20bfb\">\n",
              "      Upload widget is only available when the cell has been executed in the\n",
              "      current browser session. Please rerun this cell to enable.\n",
              "      </output>\n",
              "      <script src=\"/nbextensions/google.colab/files.js\"></script> "
            ],
            "text/plain": [
              "<IPython.core.display.HTML object>"
            ]
          },
          "metadata": {
            "tags": []
          }
        },
        {
          "output_type": "stream",
          "text": [
            "Saving kaggle.json to kaggle.json\n"
          ],
          "name": "stdout"
        },
        {
          "output_type": "execute_result",
          "data": {
            "text/plain": [
              "{'kaggle.json': b'{\"username\":\"vishnu2799\",\"key\":\"a3470c3a592aa9d771d440897bc95080\"}'}"
            ]
          },
          "metadata": {
            "tags": []
          },
          "execution_count": 2
        }
      ]
    },
    {
      "cell_type": "code",
      "metadata": {
        "id": "5AZMrwug5GMU",
        "colab_type": "code",
        "outputId": "41bba800-bf09-4a07-eab2-cb2e5cda9532",
        "colab": {
          "base_uri": "https://localhost:8080/",
          "height": 34
        }
      },
      "source": [
        "!mkdir -p ~/.kaggle\n",
        "!cp kaggle.json ~/.kaggle/\n",
        "!chmod 600 ~/.kaggle/kaggle.json\n",
        "!ls ~/.kaggle"
      ],
      "execution_count": 0,
      "outputs": [
        {
          "output_type": "stream",
          "text": [
            "kaggle.json\n"
          ],
          "name": "stdout"
        }
      ]
    },
    {
      "cell_type": "code",
      "metadata": {
        "id": "JJa1RC975O7W",
        "colab_type": "code",
        "outputId": "5cf1c755-258c-4341-a3a3-877c4609beda",
        "colab": {
          "base_uri": "https://localhost:8080/",
          "height": 67
        }
      },
      "source": [
        "!ls -l ~/.kaggle\n",
        "!cat ~/.kaggle/kaggle.json"
      ],
      "execution_count": 0,
      "outputs": [
        {
          "output_type": "stream",
          "text": [
            "total 4\n",
            "-rw------- 1 root root 66 Feb 14 07:07 kaggle.json\n",
            "{\"username\":\"vishnu2799\",\"key\":\"a3470c3a592aa9d771d440897bc95080\"}"
          ],
          "name": "stdout"
        }
      ]
    },
    {
      "cell_type": "code",
      "metadata": {
        "id": "Mn7Ayl9A5SE5",
        "colab_type": "code",
        "outputId": "a4e9d7bb-c287-4185-b15b-caa91567fb5c",
        "colab": {
          "base_uri": "https://localhost:8080/",
          "height": 134
        }
      },
      "source": [
        "!pip install -q kaggle\n",
        "!pip install -q kaggle-cli"
      ],
      "execution_count": 0,
      "outputs": [
        {
          "output_type": "stream",
          "text": [
            "\u001b[K    100% |████████████████████████████████| 81kB 5.2MB/s \n",
            "\u001b[K    100% |████████████████████████████████| 5.3MB 5.9MB/s \n",
            "\u001b[K    100% |████████████████████████████████| 92kB 24.7MB/s \n",
            "\u001b[K    100% |████████████████████████████████| 51kB 18.6MB/s \n",
            "\u001b[?25h  Building wheel for kaggle-cli (setup.py) ... \u001b[?25ldone\n",
            "\u001b[?25h  Building wheel for cliff (setup.py) ... \u001b[?25ldone\n",
            "\u001b[?25h  Building wheel for pyperclip (setup.py) ... \u001b[?25ldone\n",
            "\u001b[?25h"
          ],
          "name": "stdout"
        }
      ]
    },
    {
      "cell_type": "markdown",
      "metadata": {
        "id": "S-Ft0Gbf5Xw_",
        "colab_type": "text"
      },
      "source": [
        "# **DOWNLOAD DATSETS**"
      ]
    },
    {
      "cell_type": "code",
      "metadata": {
        "id": "n8c0IBWc5WxL",
        "colab_type": "code",
        "outputId": "811ead18-52e8-4bfc-b076-8d4a2fe39ff2",
        "colab": {
          "base_uri": "https://localhost:8080/",
          "height": 67
        }
      },
      "source": [
        "!kaggle datasets download -d iarunava/cell-images-for-detecting-malaria"
      ],
      "execution_count": 0,
      "outputs": [
        {
          "output_type": "stream",
          "text": [
            "Downloading cell-images-for-detecting-malaria.zip to /content\n",
            " 99% 335M/337M [00:05<00:00, 66.3MB/s]\n",
            "100% 337M/337M [00:05<00:00, 64.7MB/s]\n"
          ],
          "name": "stdout"
        }
      ]
    },
    {
      "cell_type": "code",
      "metadata": {
        "id": "QauLgqSz5teA",
        "colab_type": "code",
        "colab": {}
      },
      "source": [
        "!unzip cell-images-for-detecting-malaria"
      ],
      "execution_count": 0,
      "outputs": []
    },
    {
      "cell_type": "code",
      "metadata": {
        "id": "628dsmcQ5-3T",
        "colab_type": "code",
        "outputId": "3772ee5c-39f5-49f7-b947-014dbed9fe80",
        "colab": {
          "base_uri": "https://localhost:8080/",
          "height": 34
        }
      },
      "source": [
        "%ls"
      ],
      "execution_count": 0,
      "outputs": [
        {
          "output_type": "stream",
          "text": [
            "\u001b[0m\u001b[01;34mcell_images\u001b[0m/  cell-images-for-detecting-malaria.zip  kaggle.json  \u001b[01;34msample_data\u001b[0m/\n"
          ],
          "name": "stdout"
        }
      ]
    },
    {
      "cell_type": "markdown",
      "metadata": {
        "id": "rlSdINh57lH3",
        "colab_type": "text"
      },
      "source": [
        "## **CHECK THE IMAGE IN DATASET**"
      ]
    },
    {
      "cell_type": "code",
      "metadata": {
        "id": "gWetkZd_6PGj",
        "colab_type": "code",
        "outputId": "a13d878c-e406-4812-c91b-222de5ff98de",
        "colab": {
          "base_uri": "https://localhost:8080/",
          "height": 350
        }
      },
      "source": [
        "import numpy as np\n",
        "import cv2\n",
        "import os\n",
        "import matplotlib.pyplot as plt\n",
        "\n",
        "\n",
        "datadir='cell_images'\n",
        "categories=['Parasitized','Uninfected']\n",
        "\n",
        "for category in categories:\n",
        "  path=os.path.join(datadir,category)\n",
        "  for img in os.listdir(path):\n",
        "    img_array=cv2.imread(os.path.join(path,img))\n",
        "    img_array=cv2.cvtColor(img_array,cv2.COLOR_BGR2RGB)\n",
        "    plt.imshow(img_array)\n",
        "    plt.show()\n",
        "    break\n",
        "  break\n",
        "  "
      ],
      "execution_count": 0,
      "outputs": [
        {
          "output_type": "display_data",
          "data": {
            "image/png": "[encoded data removed]",
            "text/plain": [
              "<Figure size 576x396 with 1 Axes>"
            ]
          },
          "metadata": {
            "tags": []
          }
        }
      ]
    },
    {
      "cell_type": "code",
      "metadata": {
        "id": "ip7C4rR17qIm",
        "colab_type": "code",
        "colab": {}
      },
      "source": [
        "img_size=120\n"
      ],
      "execution_count": 0,
      "outputs": []
    },
    {
      "cell_type": "code",
      "metadata": {
        "id": "U3JyQ5Qo86d1",
        "colab_type": "code",
        "colab": {}
      },
      "source": [
        "import pickle\n",
        "def dump_pickle(X,y,valid_img_count,pickle_counter,category):\n",
        "  \n",
        "  X=np.array(X).reshape(-1,img_size,img_size,3)\n",
        "  \n",
        "  pickle_out=open(os.path.join(datadir,'X_{}_{}'.format(category,pickle_counter) ),\"wb\" )\n",
        "  pickle.dump(X,pickle_out)\n",
        "  pickle_out.close\n",
        "  print('X_{}_{} Generated\\n'.format(category,pickle_counter))\n",
        "  X=[]\n",
        "  \n",
        "  pickle_out=open(os.path.join(datadir,'y_{}_{}'.format(category,pickle_counter) ),\"wb\" )\n",
        "  pickle.dump(y,pickle_out)\n",
        "  pickle_out.close\n",
        "  print('y_{}_{} Generated\\n'.format(category,pickle_counter))\n",
        "                  \n",
        "                  "
      ],
      "execution_count": 0,
      "outputs": []
    },
    {
      "cell_type": "code",
      "metadata": {
        "id": "tphmW8bj74hN",
        "colab_type": "code",
        "outputId": "bb98bbaf-6c0e-4a2d-e9eb-2b7a16f85c14",
        "colab": {
          "base_uri": "https://localhost:8080/",
          "height": 857
        }
      },
      "source": [
        "from tqdm import tqdm \n",
        "import pickle\n",
        "\n",
        "\n",
        "def create_training_data():\n",
        "  X=[]\n",
        "  y=[]\n",
        "  valid_img_count=0\n",
        "  invalid_images=0\n",
        "  count=0\n",
        "  for category in categories:\n",
        "    path=os.path.join(datadir,category)\n",
        "    class_num=categories.index(category)\n",
        "    pickle_counter=0\n",
        "    \n",
        "    for img in tqdm(os.listdir(path),desc=category):\n",
        "      try:\n",
        "        img_array=cv2.imread(os.path.join(path,img))\n",
        "        img_array2=cv2.cvtColor(img_array,cv2.COLOR_BGR2RGB)\n",
        "        new_array=cv2.resize(img_array2,(img_size,img_size))\n",
        "        new_array=new_array/255.0\n",
        "        \n",
        "        X.append(new_array)\n",
        "        y.append(class_num)\n",
        "        \n",
        "        count+=1\n",
        "        valid_img_count+=1\n",
        "  \n",
        "        \n",
        "        if count>=2500:\n",
        "          dump_pickle(X,y,valid_img_count,pickle_counter,category)\n",
        "          count=0\n",
        "          pickle_counter+=1\n",
        "          X=[]\n",
        "          y=[]\n",
        "          \n",
        "      \n",
        "      except Exception as e:\n",
        "        invalid_images+=1\n",
        "        pass\n",
        "        \n",
        "    if pickle_counter==5 and count<2500 and category=='Parasitized':\n",
        "      dump_pickle(X,y,valid_img_count,pickle_counter,category)\n",
        "      count=0\n",
        "      X=[]\n",
        "      y=[]\n",
        "      \n",
        "        \n",
        "    if pickle_counter==5 and count<2500 and category=='Uninfected' :\n",
        "      dump_pickle(X,y,valid_img_count,pickle_counter,category)\n",
        "      count=0\n",
        "      X=[]\n",
        "      y=[]\n",
        "  \n",
        "  \n",
        "  return pickle_counter\n",
        "\n",
        "b=create_training_data()"
      ],
      "execution_count": 0,
      "outputs": [
        {
          "output_type": "stream",
          "text": [
            "Parasitized:  18%|█▊        | 2470/13780 [00:03<00:16, 673.08it/s]"
          ],
          "name": "stderr"
        },
        {
          "output_type": "stream",
          "text": [
            "X_Parasitized_0 Generated\n",
            "\n",
            "y_Parasitized_0 Generated\n",
            "\n"
          ],
          "name": "stdout"
        },
        {
          "output_type": "stream",
          "text": [
            "Parasitized:  36%|███▌      | 4955/13780 [00:16<00:08, 1040.90it/s]"
          ],
          "name": "stderr"
        },
        {
          "output_type": "stream",
          "text": [
            "X_Parasitized_1 Generated\n",
            "\n",
            "y_Parasitized_1 Generated\n",
            "\n"
          ],
          "name": "stdout"
        },
        {
          "output_type": "stream",
          "text": [
            "Parasitized:  54%|█████▎    | 7398/13780 [00:40<00:06, 1056.94it/s]"
          ],
          "name": "stderr"
        },
        {
          "output_type": "stream",
          "text": [
            "X_Parasitized_2 Generated\n",
            "\n",
            "y_Parasitized_2 Generated\n",
            "\n"
          ],
          "name": "stdout"
        },
        {
          "output_type": "stream",
          "text": [
            "Parasitized:  72%|███████▏  | 9900/13780 [01:10<00:11, 345.15it/s]"
          ],
          "name": "stderr"
        },
        {
          "output_type": "stream",
          "text": [
            "X_Parasitized_3 Generated\n",
            "\n",
            "y_Parasitized_3 Generated\n",
            "\n"
          ],
          "name": "stdout"
        },
        {
          "output_type": "stream",
          "text": [
            "Parasitized:  90%|█████████ | 12424/13780 [01:40<00:01, 969.95it/s]"
          ],
          "name": "stderr"
        },
        {
          "output_type": "stream",
          "text": [
            "X_Parasitized_4 Generated\n",
            "\n",
            "y_Parasitized_4 Generated\n",
            "\n"
          ],
          "name": "stdout"
        },
        {
          "output_type": "stream",
          "text": [
            "Parasitized: 100%|██████████| 13780/13780 [01:58<00:00, 116.18it/s]\n",
            "Uninfected:   0%|          | 0/13780 [00:00<?, ?it/s]"
          ],
          "name": "stderr"
        },
        {
          "output_type": "stream",
          "text": [
            "X_Parasitized_5 Generated\n",
            "\n",
            "y_Parasitized_5 Generated\n",
            "\n"
          ],
          "name": "stdout"
        },
        {
          "output_type": "stream",
          "text": [
            "Uninfected:  18%|█▊        | 2477/13780 [00:30<00:20, 539.88it/s]"
          ],
          "name": "stderr"
        },
        {
          "output_type": "stream",
          "text": [
            "X_Uninfected_0 Generated\n",
            "\n",
            "y_Uninfected_0 Generated\n",
            "\n"
          ],
          "name": "stdout"
        },
        {
          "output_type": "stream",
          "text": [
            "Uninfected:  36%|███▌      | 4974/13780 [00:42<00:13, 649.58it/s]"
          ],
          "name": "stderr"
        },
        {
          "output_type": "stream",
          "text": [
            "X_Uninfected_1 Generated\n",
            "\n",
            "y_Uninfected_1 Generated\n",
            "\n"
          ],
          "name": "stdout"
        },
        {
          "output_type": "stream",
          "text": [
            "Uninfected:  54%|█████▍    | 7485/13780 [01:20<00:07, 836.60it/s]"
          ],
          "name": "stderr"
        },
        {
          "output_type": "stream",
          "text": [
            "X_Uninfected_2 Generated\n",
            "\n",
            "y_Uninfected_2 Generated\n",
            "\n"
          ],
          "name": "stdout"
        },
        {
          "output_type": "stream",
          "text": [
            "Uninfected:  72%|███████▏  | 9948/13780 [01:50<00:04, 869.56it/s]"
          ],
          "name": "stderr"
        },
        {
          "output_type": "stream",
          "text": [
            "X_Uninfected_3 Generated\n",
            "\n",
            "y_Uninfected_3 Generated\n",
            "\n"
          ],
          "name": "stdout"
        },
        {
          "output_type": "stream",
          "text": [
            "Uninfected:  90%|████████▉ | 12397/13780 [02:20<00:01, 869.96it/s]"
          ],
          "name": "stderr"
        },
        {
          "output_type": "stream",
          "text": [
            "X_Uninfected_4 Generated\n",
            "\n",
            "y_Uninfected_4 Generated\n",
            "\n"
          ],
          "name": "stdout"
        },
        {
          "output_type": "stream",
          "text": [
            "Uninfected: 100%|██████████| 13780/13780 [02:34<00:00, 89.06it/s] \n"
          ],
          "name": "stderr"
        },
        {
          "output_type": "stream",
          "text": [
            "X_Uninfected_5 Generated\n",
            "\n",
            "y_Uninfected_5 Generated\n",
            "\n"
          ],
          "name": "stdout"
        }
      ]
    },
    {
      "cell_type": "code",
      "metadata": {
        "id": "hrhoFoAnJlPD",
        "colab_type": "code",
        "outputId": "62eaf566-5ab4-4a45-eec8-0c68497ef3a1",
        "colab": {
          "base_uri": "https://localhost:8080/",
          "height": 134
        }
      },
      "source": [
        "%ls cell_images"
      ],
      "execution_count": 0,
      "outputs": [
        {
          "output_type": "stream",
          "text": [
            "\u001b[0m\u001b[01;34mParasitized\u001b[0m/     X_Parasitized_5  y_Parasitized_0  y_Uninfected_1\n",
            "\u001b[01;34mUninfected\u001b[0m/      X_Uninfected_0   y_Parasitized_1  y_Uninfected_2\n",
            "X_Parasitized_0  X_Uninfected_1   y_Parasitized_2  y_Uninfected_3\n",
            "X_Parasitized_1  X_Uninfected_2   y_Parasitized_3  y_Uninfected_4\n",
            "X_Parasitized_2  X_Uninfected_3   y_Parasitized_4  y_Uninfected_5\n",
            "X_Parasitized_3  X_Uninfected_4   y_Parasitized_5\n",
            "X_Parasitized_4  X_Uninfected_5   y_Uninfected_0\n"
          ],
          "name": "stdout"
        }
      ]
    },
    {
      "cell_type": "code",
      "metadata": {
        "id": "fA2o7jn5LoKk",
        "colab_type": "code",
        "outputId": "a059ada9-8c4f-43c7-86bc-9833eea32730",
        "colab": {
          "base_uri": "https://localhost:8080/",
          "height": 924
        }
      },
      "source": [
        "import random \n",
        "import pickle\n",
        "import os\n",
        "import numpy as np\n",
        "\n",
        "for i in range(b+1):\n",
        "  \n",
        "  print('--------------------------------------\\n ')\n",
        "  print('Processing-part{}'.format(i))\n",
        "  \n",
        "  pickle_in=open(os.path.join(datadir,'X_{}_{}'.format(categories[0],i)) ,'rb')\n",
        "  Xpara=pickle.load(pickle_in)\n",
        "  pickle_in.close\n",
        "  \n",
        "  pickle_in=open(os.path.join(datadir,'X_{}_{}'.format(categories[1],i)) ,'rb')\n",
        "  Xuninf=pickle.load(pickle_in)\n",
        "  pickle_in.close\n",
        "  \n",
        "  pickle_in=open(os.path.join(datadir,'y_{}_{}'.format(categories[0],i)) ,'rb')\n",
        "  ypara=pickle.load(pickle_in)\n",
        "  pickle_in.close\n",
        "  \n",
        "  pickle_in=open(os.path.join(datadir,'y_{}_{}'.format(categories[1],i)) ,'rb')\n",
        "  yuninf=pickle.load(pickle_in)\n",
        "  pickle_in.close\n",
        "  \n",
        "  X=np.concatenate((Xpara,Xuninf),axis=0)  #https://docs.scipy.org/doc/numpy/reference/generated/numpy.concatenate.html\n",
        "  y=np.concatenate((ypara,yuninf),axis=0)  \n",
        "  \n",
        "  print('\\nConcatenated successfully-{}'.format(i))\n",
        "  \n",
        "  BSHUFFLE=[]\n",
        "  \n",
        "  x=0\n",
        "  for label in y:\n",
        "    BSHUFFLE.append([X[x],label])\n",
        "    x+=1\n",
        "    \n",
        "  random.shuffle(BSHUFFLE)\n",
        "  print(\"\\nShuffled Successfully-{}\".format(i))\n",
        "  \n",
        "  X=[]\n",
        "  y=[]\n",
        "  for item in BSHUFFLE:\n",
        "    X.append(item[0])\n",
        "    y.append(item[1])\n",
        "    \n",
        "  X=np.array(X).reshape(-1,img_size,img_size,3)\n",
        "\n",
        "  pickle_out=open(os.path.join(datadir,'X_{}'.format(i)),'wb')\n",
        "  pickle.dump(X,pickle_out)\n",
        "  pickle_out.close\n",
        "  \n",
        "  pickle_out=open(os.path.join(datadir,'y_{}'.format(i)),'wb')\n",
        "  pickle.dump(y,pickle_out)\n",
        "  pickle_out.close\n",
        "  \n",
        "  print(\"\\nSaved sucessfully-{}\".format(i))\n",
        "  \n",
        "  \n",
        "  \n",
        "  \n",
        "  \n",
        "  \n",
        "  \n",
        "  "
      ],
      "execution_count": 0,
      "outputs": [
        {
          "output_type": "stream",
          "text": [
            "--------------------------------------\n",
            " \n",
            "Processing-part0\n",
            "\n",
            "Concatenated successfully-0\n",
            "\n",
            "Shuffled Successfully-0\n",
            "\n",
            "Saved sucessfully-0\n",
            "--------------------------------------\n",
            " \n",
            "Processing-part1\n",
            "\n",
            "Concatenated successfully-1\n",
            "\n",
            "Shuffled Successfully-1\n",
            "\n",
            "Saved sucessfully-1\n",
            "--------------------------------------\n",
            " \n",
            "Processing-part2\n",
            "\n",
            "Concatenated successfully-2\n",
            "\n",
            "Shuffled Successfully-2\n",
            "\n",
            "Saved sucessfully-2\n",
            "--------------------------------------\n",
            " \n",
            "Processing-part3\n",
            "\n",
            "Concatenated successfully-3\n",
            "\n",
            "Shuffled Successfully-3\n",
            "\n",
            "Saved sucessfully-3\n",
            "--------------------------------------\n",
            " \n",
            "Processing-part4\n",
            "\n",
            "Concatenated successfully-4\n",
            "\n",
            "Shuffled Successfully-4\n",
            "\n",
            "Saved sucessfully-4\n",
            "--------------------------------------\n",
            " \n",
            "Processing-part5\n",
            "\n",
            "Concatenated successfully-5\n",
            "\n",
            "Shuffled Successfully-5\n",
            "\n",
            "Saved sucessfully-5\n"
          ],
          "name": "stdout"
        }
      ]
    },
    {
      "cell_type": "code",
      "metadata": {
        "id": "PEXz5uRzUe5Q",
        "colab_type": "code",
        "outputId": "1e9b5f3c-d5c8-4a58-8f39-6d092b0c4610",
        "colab": {
          "base_uri": "https://localhost:8080/",
          "height": 34
        }
      },
      "source": [
        "print(b)"
      ],
      "execution_count": 0,
      "outputs": [
        {
          "output_type": "stream",
          "text": [
            "5\n"
          ],
          "name": "stdout"
        }
      ]
    },
    {
      "cell_type": "code",
      "metadata": {
        "id": "5GksybIwU4Sh",
        "colab_type": "code",
        "outputId": "e03d9304-fc7a-451e-98db-b1fda0a2465d",
        "colab": {
          "base_uri": "https://localhost:8080/",
          "height": 2271
        }
      },
      "source": [
        "import tensorflow as tf\n",
        "from tensorflow.keras.layers import Dense,Activation,MaxPooling2D,Dropout,Conv2D,Flatten\n",
        "from tensorflow.keras.models import Sequential\n",
        "\n",
        "model=Sequential()\n",
        "\n",
        "model.add(Conv2D (64,(3,3),input_shape=(120,120,3))   )\n",
        "model.add(Activation(\"relu\"))\n",
        "model.add(MaxPooling2D(pool_size=(2,2)))\n",
        "\n",
        "model.add(Conv2D (64,(3,3))   )\n",
        "model.add(Activation(\"relu\"))\n",
        "model.add(MaxPooling2D(pool_size=(2,2)))\n",
        "\n",
        "\n",
        "model.add(Conv2D (64,(3,3))   )\n",
        "model.add(Activation(\"relu\"))\n",
        "model.add(MaxPooling2D(pool_size=(2,2)))\n",
        "\n",
        "\n",
        "model.add(Conv2D (64,(3,3))   )\n",
        "model.add(Activation(\"relu\"))\n",
        "model.add(MaxPooling2D(pool_size=(2,2)))\n",
        "model.add(Dropout(0.2))\n",
        "\n",
        "model.add(Flatten())\n",
        "\n",
        "model.add(Dense(1))\n",
        "model.add(Activation('sigmoid'))\n",
        "\n",
        "model.compile(loss='binary_crossentropy',optimizer='adam',metrics=['accuracy'])\n",
        "\n",
        "epochs=10\n",
        "\n",
        "for epoch in range(epochs):\n",
        "  print(\"EPOCHS-{}\".format(epoch))\n",
        "  for i in range(b+1):\n",
        "    X=pickle.load(open(os.path.join (datadir,'X_{}'.format(i) ),'rb' ))\n",
        "    y=pickle.load(open(os.path.join(datadir,'y_{}'.format(i) ),'rb' ))\n",
        "    \n",
        "    model.fit(X,np.array(y),batch_size=32,epochs=1,validation_split=0.1)\n",
        "    model.save(\"Malaria.model\")\n"
      ],
      "execution_count": 0,
      "outputs": [
        {
          "output_type": "stream",
          "text": [
            "EPOCHS-0\n",
            "Train on 4500 samples, validate on 500 samples\n",
            "WARNING:tensorflow:From /usr/local/lib/python3.6/dist-packages/tensorflow/python/ops/math_ops.py:3066: to_int32 (from tensorflow.python.ops.math_ops) is deprecated and will be removed in a future version.\n",
            "Instructions for updating:\n",
            "Use tf.cast instead.\n",
            "4500/4500 [==============================] - 227s 50ms/sample - loss: 0.6183 - acc: 0.6320 - val_loss: 0.4155 - val_acc: 0.8160\n",
            "Train on 4500 samples, validate on 500 samples\n",
            "4500/4500 [==============================] - 229s 51ms/sample - loss: 0.2808 - acc: 0.9047 - val_loss: 0.2035 - val_acc: 0.9500\n",
            "Train on 4500 samples, validate on 500 samples\n",
            "4500/4500 [==============================] - 225s 50ms/sample - loss: 0.2108 - acc: 0.9376 - val_loss: 0.2509 - val_acc: 0.9240\n",
            "Train on 4500 samples, validate on 500 samples\n",
            "4500/4500 [==============================] - 229s 51ms/sample - loss: 0.2032 - acc: 0.9416 - val_loss: 0.1423 - val_acc: 0.9480\n",
            "Train on 4500 samples, validate on 500 samples\n",
            "4500/4500 [==============================] - 226s 50ms/sample - loss: 0.1661 - acc: 0.9496 - val_loss: 0.1832 - val_acc: 0.9440\n",
            "Train on 2302 samples, validate on 256 samples\n",
            "2302/2302 [==============================] - 116s 50ms/sample - loss: 0.1963 - acc: 0.9374 - val_loss: 0.1265 - val_acc: 0.9727\n",
            "EPOCHS-1\n",
            "Train on 4500 samples, validate on 500 samples\n",
            "4500/4500 [==============================] - 225s 50ms/sample - loss: 0.1609 - acc: 0.9478 - val_loss: 0.1297 - val_acc: 0.9520\n",
            "Train on 4500 samples, validate on 500 samples\n",
            "4500/4500 [==============================] - 224s 50ms/sample - loss: 0.1820 - acc: 0.9458 - val_loss: 0.1363 - val_acc: 0.9640\n",
            "Train on 4500 samples, validate on 500 samples\n",
            "4500/4500 [==============================] - 224s 50ms/sample - loss: 0.1714 - acc: 0.9440 - val_loss: 0.2218 - val_acc: 0.9220\n",
            "Train on 4500 samples, validate on 500 samples\n",
            "4500/4500 [==============================] - 242s 54ms/sample - loss: 0.1806 - acc: 0.9458 - val_loss: 0.1226 - val_acc: 0.9540\n",
            "Train on 4500 samples, validate on 500 samples\n",
            "4500/4500 [==============================] - 224s 50ms/sample - loss: 0.1473 - acc: 0.9567 - val_loss: 0.1512 - val_acc: 0.9520\n",
            "Train on 2302 samples, validate on 256 samples\n",
            "2302/2302 [==============================] - 114s 50ms/sample - loss: 0.1778 - acc: 0.9366 - val_loss: 0.1168 - val_acc: 0.9688\n",
            "EPOCHS-2\n",
            "Train on 4500 samples, validate on 500 samples\n",
            "4500/4500 [==============================] - 225s 50ms/sample - loss: 0.1493 - acc: 0.9513 - val_loss: 0.1361 - val_acc: 0.9560\n",
            "Train on 4500 samples, validate on 500 samples\n",
            "4500/4500 [==============================] - 225s 50ms/sample - loss: 0.1581 - acc: 0.9487 - val_loss: 0.1337 - val_acc: 0.9680\n",
            "Train on 4500 samples, validate on 500 samples\n",
            "4500/4500 [==============================] - 225s 50ms/sample - loss: 0.1521 - acc: 0.9493 - val_loss: 0.1889 - val_acc: 0.9420\n",
            "Train on 4500 samples, validate on 500 samples\n",
            "4500/4500 [==============================] - 226s 50ms/sample - loss: 0.1657 - acc: 0.9511 - val_loss: 0.1154 - val_acc: 0.9640\n",
            "Train on 4500 samples, validate on 500 samples\n",
            "4500/4500 [==============================] - 225s 50ms/sample - loss: 0.1399 - acc: 0.9549 - val_loss: 0.1520 - val_acc: 0.9480\n",
            "Train on 2302 samples, validate on 256 samples\n",
            "2302/2302 [==============================] - 115s 50ms/sample - loss: 0.1629 - acc: 0.9461 - val_loss: 0.1139 - val_acc: 0.9805\n",
            "EPOCHS-3\n",
            "Train on 4500 samples, validate on 500 samples\n",
            "4500/4500 [==============================] - 228s 51ms/sample - loss: 0.1487 - acc: 0.9527 - val_loss: 0.1292 - val_acc: 0.9540\n",
            "Train on 4500 samples, validate on 500 samples\n",
            "4500/4500 [==============================] - 228s 51ms/sample - loss: 0.1517 - acc: 0.9502 - val_loss: 0.1246 - val_acc: 0.9640\n",
            "Train on 4500 samples, validate on 500 samples\n",
            "4500/4500 [==============================] - 227s 50ms/sample - loss: 0.1470 - acc: 0.9516 - val_loss: 0.1929 - val_acc: 0.9440\n",
            "Train on 4500 samples, validate on 500 samples\n",
            "4500/4500 [==============================] - 225s 50ms/sample - loss: 0.1536 - acc: 0.9516 - val_loss: 0.1077 - val_acc: 0.9600\n",
            "Train on 4500 samples, validate on 500 samples\n",
            "4500/4500 [==============================] - 225s 50ms/sample - loss: 0.1314 - acc: 0.9591 - val_loss: 0.1693 - val_acc: 0.9600\n",
            "Train on 2302 samples, validate on 256 samples\n",
            "2302/2302 [==============================] - 115s 50ms/sample - loss: 0.1598 - acc: 0.9453 - val_loss: 0.1165 - val_acc: 0.9609\n",
            "EPOCHS-4\n",
            "Train on 4500 samples, validate on 500 samples\n",
            "4500/4500 [==============================] - 226s 50ms/sample - loss: 0.1391 - acc: 0.9533 - val_loss: 0.1304 - val_acc: 0.9620\n",
            "Train on 4500 samples, validate on 500 samples\n",
            "4500/4500 [==============================] - 225s 50ms/sample - loss: 0.1403 - acc: 0.9538 - val_loss: 0.1172 - val_acc: 0.9700\n",
            "Train on 4500 samples, validate on 500 samples\n",
            "4500/4500 [==============================] - 225s 50ms/sample - loss: 0.1426 - acc: 0.9524 - val_loss: 0.1869 - val_acc: 0.9480\n",
            "Train on 4500 samples, validate on 500 samples\n",
            "4500/4500 [==============================] - 224s 50ms/sample - loss: 0.1456 - acc: 0.9527 - val_loss: 0.1161 - val_acc: 0.9600\n",
            "Train on 4500 samples, validate on 500 samples\n",
            "4500/4500 [==============================] - 225s 50ms/sample - loss: 0.1287 - acc: 0.9613 - val_loss: 0.1450 - val_acc: 0.9560\n",
            "Train on 2302 samples, validate on 256 samples\n",
            "2302/2302 [==============================] - 114s 50ms/sample - loss: 0.1505 - acc: 0.9461 - val_loss: 0.1093 - val_acc: 0.9688\n",
            "EPOCHS-5\n",
            "Train on 4500 samples, validate on 500 samples\n",
            "4500/4500 [==============================] - 228s 51ms/sample - loss: 0.1395 - acc: 0.9556 - val_loss: 0.1215 - val_acc: 0.9580\n",
            "Train on 4500 samples, validate on 500 samples\n",
            "4500/4500 [==============================] - 227s 50ms/sample - loss: 0.1388 - acc: 0.9560 - val_loss: 0.1224 - val_acc: 0.9680\n",
            "Train on 4500 samples, validate on 500 samples\n",
            "4500/4500 [==============================] - 227s 50ms/sample - loss: 0.1354 - acc: 0.9549 - val_loss: 0.1658 - val_acc: 0.9460\n",
            "Train on 4500 samples, validate on 500 samples\n",
            "4500/4500 [==============================] - 228s 51ms/sample - loss: 0.1462 - acc: 0.9502 - val_loss: 0.1150 - val_acc: 0.9680\n",
            "Train on 4500 samples, validate on 500 samples\n",
            "4500/4500 [==============================] - 226s 50ms/sample - loss: 0.1276 - acc: 0.9584 - val_loss: 0.1172 - val_acc: 0.9600\n",
            "Train on 2302 samples, validate on 256 samples\n",
            "2302/2302 [==============================] - 114s 49ms/sample - loss: 0.1471 - acc: 0.9483 - val_loss: 0.1029 - val_acc: 0.9688\n",
            "EPOCHS-6\n",
            "Train on 4500 samples, validate on 500 samples\n",
            "4500/4500 [==============================] - 225s 50ms/sample - loss: 0.1357 - acc: 0.9531 - val_loss: 0.1215 - val_acc: 0.9580\n",
            "Train on 4500 samples, validate on 500 samples\n",
            "4500/4500 [==============================] - 226s 50ms/sample - loss: 0.1303 - acc: 0.9564 - val_loss: 0.1115 - val_acc: 0.9700\n",
            "Train on 4500 samples, validate on 500 samples\n",
            "4500/4500 [==============================] - 226s 50ms/sample - loss: 0.1360 - acc: 0.9551 - val_loss: 0.1733 - val_acc: 0.9400\n",
            "Train on 4500 samples, validate on 500 samples\n",
            "4500/4500 [==============================] - 226s 50ms/sample - loss: 0.1338 - acc: 0.9573 - val_loss: 0.1059 - val_acc: 0.9600\n",
            "Train on 4500 samples, validate on 500 samples\n",
            "4500/4500 [==============================] - 226s 50ms/sample - loss: 0.1128 - acc: 0.9638 - val_loss: 0.1175 - val_acc: 0.9580\n",
            "Train on 2302 samples, validate on 256 samples\n",
            "2302/2302 [==============================] - 115s 50ms/sample - loss: 0.1462 - acc: 0.9444 - val_loss: 0.1039 - val_acc: 0.9648\n",
            "EPOCHS-7\n",
            "Train on 4500 samples, validate on 500 samples\n",
            "4500/4500 [==============================] - 225s 50ms/sample - loss: 0.1248 - acc: 0.9593 - val_loss: 0.1235 - val_acc: 0.9600\n",
            "Train on 4500 samples, validate on 500 samples\n",
            "4500/4500 [==============================] - 225s 50ms/sample - loss: 0.1302 - acc: 0.9573 - val_loss: 0.1133 - val_acc: 0.9600\n",
            "Train on 4500 samples, validate on 500 samples\n",
            "4500/4500 [==============================] - 228s 51ms/sample - loss: 0.1229 - acc: 0.9589 - val_loss: 0.1816 - val_acc: 0.9400\n",
            "Train on 4500 samples, validate on 500 samples\n",
            "4500/4500 [==============================] - 227s 50ms/sample - loss: 0.1289 - acc: 0.9584 - val_loss: 0.0960 - val_acc: 0.9600\n",
            "Train on 4500 samples, validate on 500 samples\n",
            "4500/4500 [==============================] - 226s 50ms/sample - loss: 0.1110 - acc: 0.9627 - val_loss: 0.1190 - val_acc: 0.9620\n",
            "Train on 2302 samples, validate on 256 samples\n",
            "2302/2302 [==============================] - 115s 50ms/sample - loss: 0.1278 - acc: 0.9535 - val_loss: 0.1021 - val_acc: 0.9648\n",
            "EPOCHS-8\n",
            "Train on 4500 samples, validate on 500 samples\n",
            "4500/4500 [==============================] - 225s 50ms/sample - loss: 0.1252 - acc: 0.9587 - val_loss: 0.1165 - val_acc: 0.9600\n",
            "Train on 4500 samples, validate on 500 samples\n",
            "4500/4500 [==============================] - 226s 50ms/sample - loss: 0.1182 - acc: 0.9602 - val_loss: 0.1259 - val_acc: 0.9700\n",
            "Train on 4500 samples, validate on 500 samples\n",
            "4500/4500 [==============================] - 224s 50ms/sample - loss: 0.1157 - acc: 0.9607 - val_loss: 0.1685 - val_acc: 0.9500\n",
            "Train on 4500 samples, validate on 500 samples\n",
            "4500/4500 [==============================] - 225s 50ms/sample - loss: 0.1214 - acc: 0.9589 - val_loss: 0.1014 - val_acc: 0.9600\n",
            "Train on 4500 samples, validate on 500 samples\n",
            "4500/4500 [==============================] - 225s 50ms/sample - loss: 0.0986 - acc: 0.9673 - val_loss: 0.1229 - val_acc: 0.9600\n",
            "Train on 2302 samples, validate on 256 samples\n",
            "2302/2302 [==============================] - 115s 50ms/sample - loss: 0.1279 - acc: 0.9566 - val_loss: 0.0883 - val_acc: 0.9688\n",
            "EPOCHS-9\n",
            "Train on 4500 samples, validate on 500 samples\n",
            "4500/4500 [==============================] - 226s 50ms/sample - loss: 0.1131 - acc: 0.9602 - val_loss: 0.1267 - val_acc: 0.9620\n",
            "Train on 4500 samples, validate on 500 samples\n",
            "4500/4500 [==============================] - 227s 50ms/sample - loss: 0.1139 - acc: 0.9584 - val_loss: 0.0974 - val_acc: 0.9700\n",
            "Train on 4500 samples, validate on 500 samples\n",
            "4500/4500 [==============================] - 226s 50ms/sample - loss: 0.1100 - acc: 0.9633 - val_loss: 0.1738 - val_acc: 0.9440\n",
            "Train on 4500 samples, validate on 500 samples\n",
            "4500/4500 [==============================] - 224s 50ms/sample - loss: 0.1123 - acc: 0.9611 - val_loss: 0.1043 - val_acc: 0.9660\n",
            "Train on 4500 samples, validate on 500 samples\n",
            "4500/4500 [==============================] - 225s 50ms/sample - loss: 0.1011 - acc: 0.9669 - val_loss: 0.1175 - val_acc: 0.9660\n",
            "Train on 2302 samples, validate on 256 samples\n",
            "2302/2302 [==============================] - 116s 51ms/sample - loss: 0.1190 - acc: 0.9592 - val_loss: 0.0985 - val_acc: 0.9648\n"
          ],
          "name": "stdout"
        }
      ]
    },
    {
      "cell_type": "code",
      "metadata": {
        "id": "J7Tz9AtR-GIb",
        "colab_type": "code",
        "colab": {}
      },
      "source": [
        "from google.colab import files\n",
        "files.download(\"Malaria.model\")"
      ],
      "execution_count": 0,
      "outputs": []
    },
    {
      "cell_type": "code",
      "metadata": {
        "id": "8Mp02AYc-IcZ",
        "colab_type": "code",
        "outputId": "1a7970ba-0f8b-412b-a551-600995435e53",
        "colab": {
          "base_uri": "https://localhost:8080/",
          "height": 689
        }
      },
      "source": [
        "import keras\n",
        "from keras.models import load_model\n",
        "from keras.utils import CustomObjectScope\n",
        "from keras.initializers import glorot_uniform\n",
        "\n",
        "with CustomObjectScope({'GlorotUniform': glorot_uniform()}):\n",
        "        model = load_model(\"Malaria.model\")\n",
        "model.summary()"
      ],
      "execution_count": 0,
      "outputs": [
        {
          "output_type": "stream",
          "text": [
            "Using TensorFlow backend.\n"
          ],
          "name": "stderr"
        },
        {
          "output_type": "stream",
          "text": [
            "_________________________________________________________________\n",
            "Layer (type)                 Output Shape              Param #   \n",
            "=================================================================\n",
            "conv2d_4 (Conv2D)            (None, 118, 118, 64)      1792      \n",
            "_________________________________________________________________\n",
            "activation_5 (Activation)    (None, 118, 118, 64)      0         \n",
            "_________________________________________________________________\n",
            "max_pooling2d_4 (MaxPooling2 (None, 59, 59, 64)        0         \n",
            "_________________________________________________________________\n",
            "conv2d_5 (Conv2D)            (None, 57, 57, 64)        36928     \n",
            "_________________________________________________________________\n",
            "activation_6 (Activation)    (None, 57, 57, 64)        0         \n",
            "_________________________________________________________________\n",
            "max_pooling2d_5 (MaxPooling2 (None, 28, 28, 64)        0         \n",
            "_________________________________________________________________\n",
            "conv2d_6 (Conv2D)            (None, 26, 26, 64)        36928     \n",
            "_________________________________________________________________\n",
            "activation_7 (Activation)    (None, 26, 26, 64)        0         \n",
            "_________________________________________________________________\n",
            "max_pooling2d_6 (MaxPooling2 (None, 13, 13, 64)        0         \n",
            "_________________________________________________________________\n",
            "conv2d_7 (Conv2D)            (None, 11, 11, 64)        36928     \n",
            "_________________________________________________________________\n",
            "activation_8 (Activation)    (None, 11, 11, 64)        0         \n",
            "_________________________________________________________________\n",
            "max_pooling2d_7 (MaxPooling2 (None, 5, 5, 64)          0         \n",
            "_________________________________________________________________\n",
            "dropout_1 (Dropout)          (None, 5, 5, 64)          0         \n",
            "_________________________________________________________________\n",
            "flatten_1 (Flatten)          (None, 1600)              0         \n",
            "_________________________________________________________________\n",
            "dense_1 (Dense)              (None, 1)                 1601      \n",
            "_________________________________________________________________\n",
            "activation_9 (Activation)    (None, 1)                 0         \n",
            "=================================================================\n",
            "Total params: 114,177\n",
            "Trainable params: 114,177\n",
            "Non-trainable params: 0\n",
            "_________________________________________________________________\n"
          ],
          "name": "stdout"
        }
      ]
    },
    {
      "cell_type": "code",
      "metadata": {
        "id": "7E1212KWOYVN",
        "colab_type": "code",
        "outputId": "7dae03df-6fa5-45cc-eff8-97a4862085f3",
        "colab": {
          "base_uri": "https://localhost:8080/",
          "height": 34
        }
      },
      "source": [
        "import cv2\n",
        "import tensorflow as tf\n",
        "\n",
        "def prepare(filepath):\n",
        "  img_size=120\n",
        "  a=cv2.imread(filepath)\n",
        "  a1=cv2.resize(a,(img_size,img_size),interpolation = cv2.INTER_AREA)\n",
        "  return a1.reshape(-1,img_size,img_size,3)\n",
        "\n",
        "prediction=model.predict( [  prepare('cell_images/Uninfected/C100P61ThinF_IMG_20150918_144104_cell_128.png' )  ]   )\n",
        "print(categories  [  int (prediction[0][0])   ]  )\n"
      ],
      "execution_count": 0,
      "outputs": [
        {
          "output_type": "stream",
          "text": [
            "Uninfected\n"
          ],
          "name": "stdout"
        }
      ]
    }
  ]
}